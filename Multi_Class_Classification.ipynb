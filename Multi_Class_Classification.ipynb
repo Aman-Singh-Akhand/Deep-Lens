{
  "nbformat": 4,
  "nbformat_minor": 0,
  "metadata": {
    "colab": {
      "provenance": [],
      "machine_shape": "hm",
      "gpuType": "T4"
    },
    "kernelspec": {
      "name": "python3",
      "display_name": "Python 3"
    },
    "language_info": {
      "name": "python"
    },
    "accelerator": "GPU"
  },
  "cells": [
    {
      "cell_type": "markdown",
      "source": [
        "# **Common Test I. Multi-Class Classification**\n",
        "I have used ResNet50 model and unfreezed its last block for training which is followed by flattening and dene layers. Later on ROC plot is presented. Due to contrained time I was not able to optimize the hyperparameters but my notebook gave the correct order to rackle such problem."
      ],
      "metadata": {
        "id": "HuofJZNE129P"
      }
    },
    {
      "cell_type": "code",
      "source": [
        "from google.colab import drive\n",
        "drive.mount('/content/drive')"
      ],
      "metadata": {
        "colab": {
          "base_uri": "https://localhost:8080/"
        },
        "id": "A2RHIX1k2mWt",
        "outputId": "c9ff568c-3de4-4c1d-c64a-813f49c494a4"
      },
      "execution_count": 1,
      "outputs": [
        {
          "output_type": "stream",
          "name": "stdout",
          "text": [
            "Mounted at /content/drive\n"
          ]
        }
      ]
    },
    {
      "cell_type": "code",
      "source": [
        "import numpy as np\n",
        "import torch\n",
        "import torch.nn as nn\n",
        "import torch.optim as optim\n",
        "import torchvision.transforms as transforms\n",
        "import torchvision.models as models\n",
        "import matplotlib.pyplot as plt\n",
        "from torch.utils.data import Dataset, DataLoader, random_split\n",
        "from sklearn.metrics import roc_curve, auc\n",
        "import os"
      ],
      "metadata": {
        "id": "3FrqR4aJ2N4q"
      },
      "execution_count": 2,
      "outputs": []
    },
    {
      "cell_type": "code",
      "source": [],
      "metadata": {
        "id": "rb_nXmMcuNe5"
      },
      "execution_count": 2,
      "outputs": []
    },
    {
      "cell_type": "code",
      "execution_count": 3,
      "metadata": {
        "id": "RD4eXcg10PcM"
      },
      "outputs": [],
      "source": [
        "\n",
        "# Custom Dataset Class with Data Augmentation\n",
        "class LensDataset(Dataset):\n",
        "    def __init__(self, data_dir, split, transform=None):\n",
        "        self.data_dir = os.path.join(data_dir, split)\n",
        "        self.images, self.labels = self.load_data()\n",
        "        self.transform = transform\n",
        "\n",
        "    def load_data(self):\n",
        "        images, labels = [], []\n",
        "        classes = ['no', 'sphere', 'vort']\n",
        "        for idx, label in enumerate(classes):\n",
        "            folder_path = os.path.join(self.data_dir, label)\n",
        "            for file in os.listdir(folder_path):\n",
        "                if file.endswith(\".npy\"):\n",
        "                    img = np.load(os.path.join(folder_path, file))\n",
        "                    img = torch.tensor(img, dtype=torch.float32)  # Ensure 1-channel\n",
        "                    images.append(img)\n",
        "                    labels.append(idx)\n",
        "        return images, labels\n",
        "\n",
        "    def __len__(self):\n",
        "        return len(self.labels)\n",
        "\n",
        "    def __getitem__(self, idx):\n",
        "        img, label = self.images[idx], self.labels[idx]\n",
        "        if self.transform:\n",
        "            img = self.transform(img)  # Apply Data Augmentation\n",
        "        return img, label"
      ]
    },
    {
      "cell_type": "code",
      "source": [
        "# Define Data Augmentation\n",
        "train_transform = transforms.Compose([\n",
        "    transforms.RandomHorizontalFlip(p=0.5),\n",
        "    transforms.RandomVerticalFlip(p=0.5),\n",
        "    transforms.RandomAffine(degrees=15, translate=(0.1, 0.1), scale=(0.9, 1.1)),\n",
        "])\n",
        "\n",
        "\n",
        "# Load Dataset\n",
        "data_dir = \"/content/drive/MyDrive/GSC/GSOC/Common Test I. Multi-Class Classification dataset/dataset\"\n",
        "train_dataset = LensDataset(data_dir, split=\"train\" , transform=train_transform)\n",
        "val_dataset = LensDataset(data_dir, split=\"val\")\n",
        "\n",
        "\n",
        "# Create DataLoaders\n",
        "train_loader = DataLoader(train_dataset, batch_size=32, shuffle=True)\n",
        "val_loader = DataLoader(val_dataset, batch_size=32, shuffle=False)\n",
        "\n"
      ],
      "metadata": {
        "id": "64AxphKY2VBC"
      },
      "execution_count": 4,
      "outputs": []
    },
    {
      "cell_type": "code",
      "source": [
        "import torch.nn as nn\n",
        "import torchvision.models as models\n",
        "\n",
        "class LensClassifier(nn.Module):\n",
        "    def __init__(self, num_classes=3):\n",
        "        super(LensClassifier, self).__init__()\n",
        "        self.model = models.resnet50(pretrained=True)\n",
        "\n",
        "        # Modify first layer for 1-channel input\n",
        "        self.model.conv1 = nn.Conv2d(1, 64, kernel_size=7, stride=2, padding=3, bias=False)\n",
        "\n",
        "        # Freeze all layers first\n",
        "        for param in self.model.parameters():\n",
        "            param.requires_grad = False\n",
        "\n",
        "        # Unfreeze only the last block (layer4) and the fully connected (fc) layer\n",
        "        for param in self.model.layer4.parameters():\n",
        "            param.requires_grad = True\n",
        "        for param in self.model.fc.parameters():\n",
        "            param.requires_grad = True\n",
        "\n",
        "        # Modify the final classification layer\n",
        "        self.model.fc = nn.Linear(self.model.fc.in_features, num_classes)\n",
        "\n",
        "    def forward(self, x):\n",
        "        return self.model(x)\n",
        "\n",
        "# Initialize Model\n",
        "model = LensClassifier(num_classes=3)\n",
        "device = torch.device(\"cuda\" if torch.cuda.is_available() else \"cpu\")\n",
        "model.to(device)\n",
        "\n",
        "\n",
        "# Define Loss and Optimizer\n",
        "criterion = nn.CrossEntropyLoss()\n",
        "optimizer = optim.AdamW(filter(lambda p: p.requires_grad, model.parameters()), lr=1e-3, weight_decay=1e-4)\n",
        "scheduler = optim.lr_scheduler.ReduceLROnPlateau(optimizer, mode='max', factor=0.5, patience=3, verbose=True)\n",
        "\n",
        "\n"
      ],
      "metadata": {
        "id": "vwPL9PY92b1T"
      },
      "execution_count": 7,
      "outputs": []
    },
    {
      "cell_type": "code",
      "source": [
        "# Training Function without Validation During Training\n",
        "def train_model(model, train_loader, criterion, optimizer, scheduler, epochs=30, save_path=\"best_model.pth\"):\n",
        "    best_loss = float('inf')\n",
        "    for epoch in range(epochs):\n",
        "        model.train()\n",
        "        running_loss = 0.0\n",
        "\n",
        "        for images, labels in train_loader:\n",
        "            images, labels = images.to(device), torch.tensor(labels, dtype=torch.long).to(device)\n",
        "            optimizer.zero_grad()\n",
        "            outputs = model(images)\n",
        "            loss = criterion(outputs, labels)\n",
        "            loss.backward()\n",
        "            optimizer.step()\n",
        "            running_loss += loss.item()\n",
        "\n",
        "        train_loss = running_loss / len(train_loader)\n",
        "        print(f\"Epoch {epoch+1}/{epochs}, Train Loss: {train_loss:.4f}\")\n",
        "\n",
        "        # Reduce LR based on training loss\n",
        "        scheduler.step(train_loss)\n",
        "\n",
        "        # Save best model based on training loss\n",
        "        if train_loss < best_loss:\n",
        "            best_loss = train_loss\n",
        "            torch.save(model.state_dict(), save_path)\n",
        "            print(f\"Model Saved with Training Loss: {train_loss:.4f}\")\n",
        "\n",
        "    print(\"\\n Training Complete! Now running validation...\")\n",
        "\n",
        "# Evaluation Function (Only Run After Training Ends)\n",
        "def evaluate_model(model, val_loader):\n",
        "    model.eval()\n",
        "    total, correct = 0, 0\n",
        "    running_loss = 0.0\n",
        "    criterion = nn.CrossEntropyLoss()\n",
        "\n",
        "    with torch.no_grad():\n",
        "        for images, labels in val_loader:\n",
        "            images, labels = images.to(device), torch.tensor(labels, dtype=torch.long).to(device)\n",
        "            outputs = model(images)\n",
        "            loss = criterion(outputs, labels)\n",
        "            running_loss += loss.item()\n",
        "            _, predicted = torch.max(outputs, 1)\n",
        "            total += labels.size(0)\n",
        "            correct += (predicted == labels).sum().item()\n",
        "\n",
        "    val_loss = running_loss / len(val_loader)\n",
        "    val_acc = correct / total\n",
        "    print(f\" Validation Done! Loss: {val_loss:.4f}, Accuracy: {val_acc:.4f}\")\n",
        "    return val_loss, val_acc\n",
        "\n",
        "# Train the Model\n",
        "train_model(model, train_loader, criterion, optimizer, scheduler, epochs=30)\n",
        "\n",
        "# Load Best Model & Validate\n",
        "model.load_state_dict(torch.load(\"best_model.pth\"))\n",
        "evaluate_model(model, val_loader)\n"
      ],
      "metadata": {
        "colab": {
          "base_uri": "https://localhost:8080/"
        },
        "id": "80J3GgQl2hc6",
        "outputId": "252b31a1-893b-4b16-f3d1-254b32e9b79a"
      },
      "execution_count": 8,
      "outputs": [
        {
          "output_type": "stream",
          "name": "stderr",
          "text": [
            "<ipython-input-8-8b33cef9a031>:10: UserWarning: To copy construct from a tensor, it is recommended to use sourceTensor.clone().detach() or sourceTensor.clone().detach().requires_grad_(True), rather than torch.tensor(sourceTensor).\n",
            "  images, labels = images.to(device), torch.tensor(labels, dtype=torch.long).to(device)\n"
          ]
        },
        {
          "output_type": "stream",
          "name": "stdout",
          "text": [
            "Epoch 1/30, Train Loss: 1.1174\n",
            "✅ Model Saved with Training Loss: 1.1174\n",
            "Epoch 2/30, Train Loss: 1.1001\n",
            "✅ Model Saved with Training Loss: 1.1001\n",
            "Epoch 3/30, Train Loss: 1.0944\n",
            "✅ Model Saved with Training Loss: 1.0944\n",
            "Epoch 4/30, Train Loss: 1.0905\n",
            "✅ Model Saved with Training Loss: 1.0905\n",
            "Epoch 5/30, Train Loss: 1.0871\n",
            "✅ Model Saved with Training Loss: 1.0871\n",
            "Epoch 6/30, Train Loss: 1.0820\n",
            "✅ Model Saved with Training Loss: 1.0820\n",
            "Epoch 7/30, Train Loss: 1.0782\n",
            "✅ Model Saved with Training Loss: 1.0782\n",
            "Epoch 8/30, Train Loss: 1.0744\n",
            "✅ Model Saved with Training Loss: 1.0744\n",
            "Epoch 9/30, Train Loss: 1.0749\n",
            "Epoch 10/30, Train Loss: 1.0700\n",
            "✅ Model Saved with Training Loss: 1.0700\n",
            "Epoch 11/30, Train Loss: 1.0693\n",
            "✅ Model Saved with Training Loss: 1.0693\n",
            "Epoch 12/30, Train Loss: 1.0658\n",
            "✅ Model Saved with Training Loss: 1.0658\n",
            "Epoch 13/30, Train Loss: 1.0667\n",
            "Epoch 14/30, Train Loss: 1.0589\n",
            "✅ Model Saved with Training Loss: 1.0589\n",
            "Epoch 15/30, Train Loss: 1.0557\n",
            "✅ Model Saved with Training Loss: 1.0557\n",
            "Epoch 16/30, Train Loss: 1.0581\n",
            "Epoch 17/30, Train Loss: 1.0548\n",
            "✅ Model Saved with Training Loss: 1.0548\n",
            "Epoch 18/30, Train Loss: 1.0567\n",
            "Epoch 19/30, Train Loss: 1.0559\n",
            "Epoch 20/30, Train Loss: 1.0526\n",
            "✅ Model Saved with Training Loss: 1.0526\n",
            "Epoch 21/30, Train Loss: 1.0499\n",
            "✅ Model Saved with Training Loss: 1.0499\n",
            "Epoch 22/30, Train Loss: 1.0511\n",
            "Epoch 23/30, Train Loss: 1.0481\n",
            "✅ Model Saved with Training Loss: 1.0481\n",
            "Epoch 24/30, Train Loss: 1.0496\n",
            "Epoch 25/30, Train Loss: 1.0484\n",
            "Epoch 26/30, Train Loss: 1.0470\n",
            "✅ Model Saved with Training Loss: 1.0470\n",
            "Epoch 27/30, Train Loss: 1.0492\n",
            "Epoch 28/30, Train Loss: 1.0461\n",
            "✅ Model Saved with Training Loss: 1.0461\n",
            "Epoch 29/30, Train Loss: 1.0455\n",
            "✅ Model Saved with Training Loss: 1.0455\n",
            "Epoch 30/30, Train Loss: 1.0451\n",
            "✅ Model Saved with Training Loss: 1.0451\n",
            "\n",
            "🎯 Training Complete! Now running validation...\n"
          ]
        },
        {
          "output_type": "stream",
          "name": "stderr",
          "text": [
            "<ipython-input-8-8b33cef9a031>:41: UserWarning: To copy construct from a tensor, it is recommended to use sourceTensor.clone().detach() or sourceTensor.clone().detach().requires_grad_(True), rather than torch.tensor(sourceTensor).\n",
            "  images, labels = images.to(device), torch.tensor(labels, dtype=torch.long).to(device)\n"
          ]
        },
        {
          "output_type": "stream",
          "name": "stdout",
          "text": [
            "🛠️ Validation Done! Loss: 1.0410, Accuracy: 0.4409\n"
          ]
        },
        {
          "output_type": "execute_result",
          "data": {
            "text/plain": [
              "(1.0409820262421954, 0.44093333333333334)"
            ]
          },
          "metadata": {},
          "execution_count": 8
        }
      ]
    },
    {
      "cell_type": "code",
      "source": [
        "# Load the Best Model\n",
        "model.load_state_dict(torch.load(\"best_model.pth\"))\n",
        "model.eval()\n",
        "print(\"Best model loaded for evaluation!\")"
      ],
      "metadata": {
        "colab": {
          "base_uri": "https://localhost:8080/"
        },
        "id": "0aJah48ofTrX",
        "outputId": "2da6f18d-5deb-448e-a677-91038655c1dd"
      },
      "execution_count": 9,
      "outputs": [
        {
          "output_type": "stream",
          "name": "stdout",
          "text": [
            "✅ Best model loaded for evaluation!\n"
          ]
        }
      ]
    },
    {
      "cell_type": "code",
      "source": [
        "# Compute and Plot ROC Curve\n",
        "def plot_roc_curve(model, val_loader):\n",
        "    model.eval()\n",
        "    y_true, y_scores = [], []\n",
        "    with torch.no_grad():\n",
        "        for images, labels in val_loader:\n",
        "            images, labels = images.to(device), labels.cpu().numpy()\n",
        "            outputs = model(images)\n",
        "            probs = torch.softmax(outputs, dim=1).cpu().numpy()\n",
        "            y_true.extend(labels)\n",
        "            y_scores.extend(probs)\n",
        "\n",
        "    y_true = np.array(y_true)\n",
        "    y_scores = np.array(y_scores)\n",
        "\n",
        "    for i in range(3):  # 3 classes\n",
        "        fpr, tpr, _ = roc_curve(y_true == i, y_scores[:, i])\n",
        "        roc_auc = auc(fpr, tpr)\n",
        "        plt.plot(fpr, tpr, label=f'Class {i} (AUC = {roc_auc:.2f})')\n",
        "\n",
        "    plt.xlabel(\"False Positive Rate\")\n",
        "    plt.ylabel(\"True Positive Rate\")\n",
        "    plt.title(\"ROC Curve\")\n",
        "    plt.legend()\n",
        "    plt.show()\n",
        "\n",
        "# Plot ROC Curve\n",
        "plot_roc_curve(model, val_loader)"
      ],
      "metadata": {
        "colab": {
          "base_uri": "https://localhost:8080/",
          "height": 472
        },
        "id": "Oo-duNBd2k3d",
        "outputId": "8efe1278-cf16-40ca-c3fe-d3f2f1020b56"
      },
      "execution_count": 10,
      "outputs": [
        {
          "output_type": "display_data",
          "data": {
            "text/plain": [
              "<Figure size 640x480 with 1 Axes>"
            ],
            "image/png": "[encoded data removed]"
          },
          "metadata": {}
        }
      ]
    },
    {
      "cell_type": "code",
      "source": [
        "%%shell\n",
        "jupyter nbconvert --to html /PATH/TO/YOUR/NOTEBOOKFILE.ipynb"
      ],
      "metadata": {
        "id": "ZBj_g-RIYpmi"
      },
      "execution_count": null,
      "outputs": []
    }
  ]
}
